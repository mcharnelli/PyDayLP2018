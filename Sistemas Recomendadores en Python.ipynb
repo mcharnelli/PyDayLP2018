{
 "cells": [
  {
   "cell_type": "markdown",
   "metadata": {},
   "source": [
    "<div style=\"width:800px; margin:0 auto\" >\n",
    "    <div style=\"float: left; padding-right:1em\" > <span style=\"font-size:215%; color:DodgerBlue\"><b>Sistemas Recomendadores en </b> </span></div>\n",
    "    <div style=\"float: left; width:130px\"><img src=\"pythonlogo.png\" ></div>\n",
    "</div>\n"
   ]
  },
  {
   "cell_type": "markdown",
   "metadata": {},
   "source": [
    "Los Sistemas Recomendadores analizan patrones de interés del usuario como artículos o productos para poder proporcionar recomendaciones personalizadas que satisfagan sus preferencias. \n",
    "\n",
    "Para poder llevar esto adelante se deben realizar diferentes tareas. \n",
    "\n",
    "Python tiene un gran cantidad de librerías que nos permiten y facilitan esto:\n",
    "* Pandas: Herramienta de análisis / manipulación de datos muy potente y flexible; \n",
    "* SciKit-Learn: Librería de SciKit que provee técnicas de minería de datos y machine learning.\n",
    "* SciKit-Surprise: Librería de SciKit para probar y evaluar diferentes algoritmos de recomendación. \n",
    "* Numpy: Librería de computación científica con funciones matemáticas de alto nivel para operar con vectores y matrices.\n",
    "* Jupyter Notebook: Librería que permite crear y compartir documentos que contengan códigos, ecuaciones, visualizaciones y textos.  \n"
   ]
  },
  {
   "cell_type": "code",
   "execution_count": 51,
   "metadata": {},
   "outputs": [
    {
     "name": "stdout",
     "output_type": "stream",
     "text": [
      "Hola PyDay\n"
     ]
    }
   ],
   "source": [
    "print('Hola PyDay')"
   ]
  },
  {
   "cell_type": "markdown",
   "metadata": {},
   "source": [
    "## Hola"
   ]
  },
  {
   "cell_type": "markdown",
   "metadata": {},
   "source": [
    "<div style=\"display:flex\">\n",
    "   <h2>Dataset a utilizar: Películas de MovieLens con información de iMDB</h2>\n",
    "   \n",
    "</div>\n",
    "\n"
   ]
  },
  {
   "cell_type": "markdown",
   "metadata": {},
   "source": [
    "<div>\n",
    "    <div style=\"float:left\">\n",
    "      <ul>\n",
    "      <li>45,000 películas. De cada película se conoce el título, género, plot, ganancias... </li>\n",
    "      <li>270,000 usuarios.</li>\n",
    "      <li>26,000,000 ratings (1,10)</li>\n",
    "      <li>750,000 etiquetas sobre las películas</li>  \n",
    "    </ul>\n",
    "    </div>    \n",
    "    <div style=\"float:left\" >\n",
    "        <img style=\"width:80px\" src=\"movies.png\">\n",
    "    </div>\n",
    "</div>\n"
   ]
  },
  {
   "cell_type": "markdown",
   "metadata": {},
   "source": [
    "### Levántando los datos con Pandas\n",
    "\n",
    "Pandas es la herramienta de análisis / manipulación de datos de código abierto más potente y flexible. Proporciona estructuras de datos rápidas, flexibles y expresivas diseñadas para que trabajar con datos relacionales o etiquetados."
   ]
  },
  {
   "cell_type": "code",
   "execution_count": 1,
   "metadata": {},
   "outputs": [],
   "source": [
    "import pandas as pd\n",
    "import json\n",
    "import ast\n",
    "import numpy as np\n",
    "import matplotlib.pyplot as plt"
   ]
  },
  {
   "cell_type": "code",
   "execution_count": 52,
   "metadata": {},
   "outputs": [],
   "source": [
    "def load_movies_metadata(file_path):\n",
    "    df = pd.read_csv(file_path, dtype='unicode')\n",
    "    \n",
    "    df['release_date'] = pd.to_datetime(df['release_date'], errors='coerce').apply(lambda x: x.date())\n",
    "    numeric_columns  = ['budget', 'vote_average','revenue','vote_count']\n",
    "    for c in numeric_columns:\n",
    "        df[c] = pd.to_numeric(df[c], errors='coerce')\n",
    "    \n",
    "    # columnas en json\n",
    "    json_columns = ['belongs_to_collection', 'genres', 'production_companies', 'production_countries', 'spoken_languages']\n",
    "    for column in json_columns:\n",
    "        # Se usa ast porque los datos json tienen comillas simples en el csv, y no \"\n",
    "        df[column] = df[column].apply(lambda x: np.nan if pd.isnull(x) else ast.literal_eval(x))\n",
    "        \n",
    "    \n",
    "    return df\n",
    "\n",
    "movies = load_movies_metadata('movies/movies_metadata.csv')\n"
   ]
  },
  {
   "cell_type": "code",
   "execution_count": 53,
   "metadata": {},
   "outputs": [
    {
     "data": {
      "text/html": [
       "<div>\n",
       "<style scoped>\n",
       "    .dataframe tbody tr th:only-of-type {\n",
       "        vertical-align: middle;\n",
       "    }\n",
       "\n",
       "    .dataframe tbody tr th {\n",
       "        vertical-align: top;\n",
       "    }\n",
       "\n",
       "    .dataframe thead th {\n",
       "        text-align: right;\n",
       "    }\n",
       "</style>\n",
       "<table border=\"1\" class=\"dataframe\">\n",
       "  <thead>\n",
       "    <tr style=\"text-align: right;\">\n",
       "      <th></th>\n",
       "      <th>adult</th>\n",
       "      <th>belongs_to_collection</th>\n",
       "      <th>budget</th>\n",
       "      <th>genres</th>\n",
       "      <th>homepage</th>\n",
       "      <th>id</th>\n",
       "      <th>imdb_id</th>\n",
       "      <th>original_language</th>\n",
       "      <th>original_title</th>\n",
       "      <th>overview</th>\n",
       "      <th>...</th>\n",
       "      <th>release_date</th>\n",
       "      <th>revenue</th>\n",
       "      <th>runtime</th>\n",
       "      <th>spoken_languages</th>\n",
       "      <th>status</th>\n",
       "      <th>tagline</th>\n",
       "      <th>title</th>\n",
       "      <th>video</th>\n",
       "      <th>vote_average</th>\n",
       "      <th>vote_count</th>\n",
       "    </tr>\n",
       "  </thead>\n",
       "  <tbody>\n",
       "    <tr>\n",
       "      <th>0</th>\n",
       "      <td>False</td>\n",
       "      <td>{u'backdrop_path': u'/9FBwqcd9IRruEDUrTdcaafOM...</td>\n",
       "      <td>30000000.0</td>\n",
       "      <td>[{u'id': 16, u'name': u'Animation'}, {u'id': 3...</td>\n",
       "      <td>http://toystory.disney.com/toy-story</td>\n",
       "      <td>862</td>\n",
       "      <td>tt0114709</td>\n",
       "      <td>en</td>\n",
       "      <td>Toy Story</td>\n",
       "      <td>Led by Woody, Andy's toys live happily in his ...</td>\n",
       "      <td>...</td>\n",
       "      <td>1995-10-30</td>\n",
       "      <td>373554033.0</td>\n",
       "      <td>81.0</td>\n",
       "      <td>[{u'iso_639_1': u'en', u'name': u'English'}]</td>\n",
       "      <td>Released</td>\n",
       "      <td>NaN</td>\n",
       "      <td>Toy Story</td>\n",
       "      <td>False</td>\n",
       "      <td>7.7</td>\n",
       "      <td>5415.0</td>\n",
       "    </tr>\n",
       "    <tr>\n",
       "      <th>1</th>\n",
       "      <td>False</td>\n",
       "      <td>NaN</td>\n",
       "      <td>65000000.0</td>\n",
       "      <td>[{u'id': 12, u'name': u'Adventure'}, {u'id': 1...</td>\n",
       "      <td>NaN</td>\n",
       "      <td>8844</td>\n",
       "      <td>tt0113497</td>\n",
       "      <td>en</td>\n",
       "      <td>Jumanji</td>\n",
       "      <td>When siblings Judy and Peter discover an encha...</td>\n",
       "      <td>...</td>\n",
       "      <td>1995-12-15</td>\n",
       "      <td>262797249.0</td>\n",
       "      <td>104.0</td>\n",
       "      <td>[{u'iso_639_1': u'en', u'name': u'English'}, {...</td>\n",
       "      <td>Released</td>\n",
       "      <td>Roll the dice and unleash the excitement!</td>\n",
       "      <td>Jumanji</td>\n",
       "      <td>False</td>\n",
       "      <td>6.9</td>\n",
       "      <td>2413.0</td>\n",
       "    </tr>\n",
       "    <tr>\n",
       "      <th>2</th>\n",
       "      <td>False</td>\n",
       "      <td>{u'backdrop_path': u'/hypTnLot2z8wpFS7qwsQHW1u...</td>\n",
       "      <td>0.0</td>\n",
       "      <td>[{u'id': 10749, u'name': u'Romance'}, {u'id': ...</td>\n",
       "      <td>NaN</td>\n",
       "      <td>15602</td>\n",
       "      <td>tt0113228</td>\n",
       "      <td>en</td>\n",
       "      <td>Grumpier Old Men</td>\n",
       "      <td>A family wedding reignites the ancient feud be...</td>\n",
       "      <td>...</td>\n",
       "      <td>1995-12-22</td>\n",
       "      <td>0.0</td>\n",
       "      <td>101.0</td>\n",
       "      <td>[{u'iso_639_1': u'en', u'name': u'English'}]</td>\n",
       "      <td>Released</td>\n",
       "      <td>Still Yelling. Still Fighting. Still Ready for...</td>\n",
       "      <td>Grumpier Old Men</td>\n",
       "      <td>False</td>\n",
       "      <td>6.5</td>\n",
       "      <td>92.0</td>\n",
       "    </tr>\n",
       "  </tbody>\n",
       "</table>\n",
       "<p>3 rows × 24 columns</p>\n",
       "</div>"
      ],
      "text/plain": [
       "   adult                              belongs_to_collection      budget  \\\n",
       "0  False  {u'backdrop_path': u'/9FBwqcd9IRruEDUrTdcaafOM...  30000000.0   \n",
       "1  False                                                NaN  65000000.0   \n",
       "2  False  {u'backdrop_path': u'/hypTnLot2z8wpFS7qwsQHW1u...         0.0   \n",
       "\n",
       "                                              genres  \\\n",
       "0  [{u'id': 16, u'name': u'Animation'}, {u'id': 3...   \n",
       "1  [{u'id': 12, u'name': u'Adventure'}, {u'id': 1...   \n",
       "2  [{u'id': 10749, u'name': u'Romance'}, {u'id': ...   \n",
       "\n",
       "                               homepage     id    imdb_id original_language  \\\n",
       "0  http://toystory.disney.com/toy-story    862  tt0114709                en   \n",
       "1                                   NaN   8844  tt0113497                en   \n",
       "2                                   NaN  15602  tt0113228                en   \n",
       "\n",
       "     original_title                                           overview  \\\n",
       "0         Toy Story  Led by Woody, Andy's toys live happily in his ...   \n",
       "1           Jumanji  When siblings Judy and Peter discover an encha...   \n",
       "2  Grumpier Old Men  A family wedding reignites the ancient feud be...   \n",
       "\n",
       "     ...     release_date      revenue runtime  \\\n",
       "0    ...       1995-10-30  373554033.0    81.0   \n",
       "1    ...       1995-12-15  262797249.0   104.0   \n",
       "2    ...       1995-12-22          0.0   101.0   \n",
       "\n",
       "                                    spoken_languages    status  \\\n",
       "0       [{u'iso_639_1': u'en', u'name': u'English'}]  Released   \n",
       "1  [{u'iso_639_1': u'en', u'name': u'English'}, {...  Released   \n",
       "2       [{u'iso_639_1': u'en', u'name': u'English'}]  Released   \n",
       "\n",
       "                                             tagline             title  video  \\\n",
       "0                                                NaN         Toy Story  False   \n",
       "1          Roll the dice and unleash the excitement!           Jumanji  False   \n",
       "2  Still Yelling. Still Fighting. Still Ready for...  Grumpier Old Men  False   \n",
       "\n",
       "  vote_average vote_count  \n",
       "0          7.7     5415.0  \n",
       "1          6.9     2413.0  \n",
       "2          6.5       92.0  \n",
       "\n",
       "[3 rows x 24 columns]"
      ]
     },
     "execution_count": 53,
     "metadata": {},
     "output_type": "execute_result"
    }
   ],
   "source": [
    "movies.head(3)"
   ]
  },
  {
   "cell_type": "code",
   "execution_count": 56,
   "metadata": {},
   "outputs": [
    {
     "data": {
      "text/plain": [
       "original_language\n",
       "104.0        1\n",
       "68.0         1\n",
       "82.0         1\n",
       "ab          10\n",
       "af           2\n",
       "am           2\n",
       "ar          39\n",
       "ay           1\n",
       "bg          10\n",
       "bm           3\n",
       "bn          29\n",
       "bo           2\n",
       "bs          14\n",
       "ca          12\n",
       "cn         313\n",
       "cs         130\n",
       "cy           1\n",
       "da         225\n",
       "de        1080\n",
       "el         113\n",
       "en       32269\n",
       "eo           1\n",
       "es         994\n",
       "et          24\n",
       "eu           3\n",
       "fa         101\n",
       "fi         297\n",
       "fr        2438\n",
       "fy           1\n",
       "gl           1\n",
       "         ...  \n",
       "pa           2\n",
       "pl         219\n",
       "ps           2\n",
       "pt         316\n",
       "qu           1\n",
       "ro          57\n",
       "ru         826\n",
       "rw           1\n",
       "sh           5\n",
       "si           1\n",
       "sk           9\n",
       "sl          17\n",
       "sm           1\n",
       "sq           5\n",
       "sr          63\n",
       "sv         384\n",
       "ta          78\n",
       "te          45\n",
       "tg           1\n",
       "th          76\n",
       "tl          23\n",
       "tr         150\n",
       "uk          16\n",
       "ur           8\n",
       "uz           1\n",
       "vi          10\n",
       "wo           5\n",
       "xx          33\n",
       "zh         409\n",
       "zu           1\n",
       "Length: 92, dtype: int64"
      ]
     },
     "execution_count": 56,
     "metadata": {},
     "output_type": "execute_result"
    }
   ],
   "source": [
    "#movies['original_language'].unique()\n",
    "#movies[movies['original_language']=='es']\n",
    "movies.groupby('original_language').size()"
   ]
  },
  {
   "cell_type": "code",
   "execution_count": 57,
   "metadata": {},
   "outputs": [
    {
     "data": {
      "text/plain": [
       "Index([u'adult', u'belongs_to_collection', u'budget', u'genres', u'homepage',\n",
       "       u'id', u'imdb_id', u'original_language', u'original_title', u'overview',\n",
       "       u'popularity', u'poster_path', u'production_companies',\n",
       "       u'production_countries', u'release_date', u'revenue', u'runtime',\n",
       "       u'spoken_languages', u'status', u'tagline', u'title', u'video',\n",
       "       u'vote_average', u'vote_count'],\n",
       "      dtype='object')"
      ]
     },
     "execution_count": 57,
     "metadata": {},
     "output_type": "execute_result"
    }
   ],
   "source": [
    "movies.columns"
   ]
  },
  {
   "cell_type": "code",
   "execution_count": 58,
   "metadata": {},
   "outputs": [
    {
     "name": "stdout",
     "output_type": "stream",
     "text": [
      "<class 'pandas.core.frame.DataFrame'>\n",
      "RangeIndex: 45466 entries, 0 to 45465\n",
      "Data columns (total 24 columns):\n",
      "adult                    45466 non-null object\n",
      "belongs_to_collection    4494 non-null object\n",
      "budget                   45463 non-null float64\n",
      "genres                   45466 non-null object\n",
      "homepage                 7782 non-null object\n",
      "id                       45466 non-null object\n",
      "imdb_id                  45449 non-null object\n",
      "original_language        45455 non-null object\n",
      "original_title           45466 non-null object\n",
      "overview                 44512 non-null object\n",
      "popularity               45461 non-null object\n",
      "poster_path              45080 non-null object\n",
      "production_companies     45463 non-null object\n",
      "production_countries     45463 non-null object\n",
      "release_date             45376 non-null object\n",
      "revenue                  45460 non-null float64\n",
      "runtime                  45203 non-null object\n",
      "spoken_languages         45460 non-null object\n",
      "status                   45379 non-null object\n",
      "tagline                  20412 non-null object\n",
      "title                    45460 non-null object\n",
      "video                    45460 non-null object\n",
      "vote_average             45460 non-null float64\n",
      "vote_count               45460 non-null float64\n",
      "dtypes: float64(4), object(20)\n",
      "memory usage: 8.3+ MB\n"
     ]
    }
   ],
   "source": [
    "movies.info()"
   ]
  },
  {
   "cell_type": "code",
   "execution_count": 59,
   "metadata": {},
   "outputs": [
    {
     "name": "stdout",
     "output_type": "stream",
     "text": [
      "['Animation', 'Comedy', 'Family', 'Adventure', 'Fantasy', 'Romance', 'Drama', 'Action', 'Crime', 'Thriller', 'Horror', 'History', 'Science Fiction', 'Mystery', 'War', 'Foreign', 'Music', 'Documentary', 'Western', 'TV Movie', 'Carousel Productions', 'Vision View Entertainment', 'Telescene Film Group Productions', 'Aniplex', 'GoHands', 'BROSTA TV', 'Mardock Scramble Production Committee', 'Sentai Filmworks', 'Odyssey Media', 'Pulser Productions', 'Rogue State', 'The Cartel']\n"
     ]
    }
   ],
   "source": [
    "genres = []\n",
    "for i,row in movies.iterrows():\n",
    "    if row['genres'] is not np.nan:\n",
    "        a = row['genres']\n",
    "        for item in a:\n",
    "            if item['name'] not in genres:\n",
    "                genres.append(item['name'])\n",
    "print(genres)"
   ]
  },
  {
   "cell_type": "markdown",
   "metadata": {},
   "source": [
    "Calcular el género cinematográfico que tuvo más ganancias."
   ]
  },
  {
   "cell_type": "code",
   "execution_count": 60,
   "metadata": {},
   "outputs": [],
   "source": [
    "genre_revenue = {}\n",
    "\n",
    "for i in range(movies.shape[0]):\n",
    "    for item in movies.iloc[i]['genres']:\n",
    "        if 'name' in item and movies.iloc[i]['revenue'] >0:\n",
    "            genre_name = item['name']\n",
    "            b = int(movies.iloc[i]['revenue'])/1000000\n",
    "            if genre_name in genre_revenue:\n",
    "                genre_revenue[genre_name]['total_revenue'] += b \n",
    "            else:\n",
    "                genre_revenue[genre_name] = {}\n",
    "                genre_revenue[genre_name]['genre'] = genre_name\n",
    "                genre_revenue[genre_name]['total_revenue'] = b\n",
    "\n",
    "most_profitable_genre = pd.DataFrame(None,None,columns=['genre','revenue'])\n",
    "\n",
    "for k,v in genre_revenue.items():\n",
    "    most_profitable_genre =  most_profitable_genre.append({'genre':v['genre'],'revenue':v['total_revenue']},ignore_index=True)"
   ]
  },
  {
   "cell_type": "code",
   "execution_count": 61,
   "metadata": {},
   "outputs": [],
   "source": [
    "most_profitable_genre = most_profitable_genre.sort_values(by='revenue',ascending=False)"
   ]
  },
  {
   "cell_type": "code",
   "execution_count": 62,
   "metadata": {},
   "outputs": [
    {
     "data": {
      "text/html": [
       "<div>\n",
       "<style scoped>\n",
       "    .dataframe tbody tr th:only-of-type {\n",
       "        vertical-align: middle;\n",
       "    }\n",
       "\n",
       "    .dataframe tbody tr th {\n",
       "        vertical-align: top;\n",
       "    }\n",
       "\n",
       "    .dataframe thead th {\n",
       "        text-align: right;\n",
       "    }\n",
       "</style>\n",
       "<table border=\"1\" class=\"dataframe\">\n",
       "  <thead>\n",
       "    <tr style=\"text-align: right;\">\n",
       "      <th></th>\n",
       "      <th>genre</th>\n",
       "      <th>revenue</th>\n",
       "    </tr>\n",
       "  </thead>\n",
       "  <tbody>\n",
       "    <tr>\n",
       "      <th>13</th>\n",
       "      <td>Action</td>\n",
       "      <td>200726</td>\n",
       "    </tr>\n",
       "    <tr>\n",
       "      <th>11</th>\n",
       "      <td>Adventure</td>\n",
       "      <td>199616</td>\n",
       "    </tr>\n",
       "    <tr>\n",
       "      <th>15</th>\n",
       "      <td>Comedy</td>\n",
       "      <td>165797</td>\n",
       "    </tr>\n",
       "    <tr>\n",
       "      <th>6</th>\n",
       "      <td>Drama</td>\n",
       "      <td>159386</td>\n",
       "    </tr>\n",
       "    <tr>\n",
       "      <th>18</th>\n",
       "      <td>Thriller</td>\n",
       "      <td>129054</td>\n",
       "    </tr>\n",
       "  </tbody>\n",
       "</table>\n",
       "</div>"
      ],
      "text/plain": [
       "        genre revenue\n",
       "13     Action  200726\n",
       "11  Adventure  199616\n",
       "15     Comedy  165797\n",
       "6       Drama  159386\n",
       "18   Thriller  129054"
      ]
     },
     "execution_count": 62,
     "metadata": {},
     "output_type": "execute_result"
    }
   ],
   "source": [
    "most_profitable_genre.head()"
   ]
  },
  {
   "cell_type": "markdown",
   "metadata": {},
   "source": [
    "### Visualización de Datos"
   ]
  },
  {
   "cell_type": "code",
   "execution_count": 63,
   "metadata": {},
   "outputs": [
    {
     "data": {
      "image/png": "[encoded data removed]",
      "text/plain": [
       "<matplotlib.figure.Figure at 0x7fea9fc2cfd0>"
      ]
     },
     "metadata": {},
     "output_type": "display_data"
    }
   ],
   "source": [
    "plt.style.use('ggplot')\n",
    "plt.figure(figsize=(17,7))\n",
    "number_of_genres= len(most_profitable_genre['genre'])\n",
    "index = np.arange(number_of_genres)\n",
    "bar_width = 0.8\n",
    "plt.bar(index, most_profitable_genre['revenue'], bar_width, color='#5555FA' )\n",
    "plt.gca().set_xlabel(u\"Género\")\n",
    "plt.gca().set_ylabel(u\"Ganancias (en millones dólares)\")\n",
    "plt.xticks(index +bar_width/2, most_profitable_genre['genre'],rotation=30, fontsize=12)\n",
    "plt.gca().set_title(u\"Películas más rentables por género\")\n",
    "plt.show()"
   ]
  },
  {
   "cell_type": "markdown",
   "metadata": {},
   "source": [
    "También podemos ver la cantidad máxima de votos para cada género"
   ]
  },
  {
   "cell_type": "code",
   "execution_count": 64,
   "metadata": {},
   "outputs": [],
   "source": [
    "genre_vote_count = {}\n",
    "\n",
    "for i,_ in movies.iterrows():   \n",
    "    for item in movies.loc[i]['genres']:\n",
    "        \n",
    "        if 'name' in item and movies.loc[i]['vote_count'] >0:\n",
    "            a = item['name']\n",
    "            b = movies.loc[i]['vote_count']\n",
    "            if a in genre_vote_count:\n",
    "                genre_vote_count[a]['total_votes'] += b \n",
    "            else:\n",
    "                genre_vote_count[a] = {}\n",
    "                genre_vote_count[a]['genre'] = a\n",
    "                genre_vote_count[a]['total_votes'] = b\n",
    "\n",
    "most_votes_genre = pd.DataFrame(None,None,columns=['genre','total_votes'])\n",
    "\n",
    "for k,v in genre_vote_count.items():\n",
    "    most_votes_genre =  most_votes_genre.append({'genre':v['genre'],'total_votes':v['total_votes']},ignore_index=True)"
   ]
  },
  {
   "cell_type": "code",
   "execution_count": 66,
   "metadata": {},
   "outputs": [
    {
     "data": {
      "text/html": [
       "<div>\n",
       "<style scoped>\n",
       "    .dataframe tbody tr th:only-of-type {\n",
       "        vertical-align: middle;\n",
       "    }\n",
       "\n",
       "    .dataframe tbody tr th {\n",
       "        vertical-align: top;\n",
       "    }\n",
       "\n",
       "    .dataframe thead th {\n",
       "        text-align: right;\n",
       "    }\n",
       "</style>\n",
       "<table border=\"1\" class=\"dataframe\">\n",
       "  <thead>\n",
       "    <tr style=\"text-align: right;\">\n",
       "      <th></th>\n",
       "      <th>genre</th>\n",
       "      <th>total_votes</th>\n",
       "    </tr>\n",
       "  </thead>\n",
       "  <tbody>\n",
       "    <tr>\n",
       "      <th>1</th>\n",
       "      <td>Drama</td>\n",
       "      <td>1956070.0</td>\n",
       "    </tr>\n",
       "    <tr>\n",
       "      <th>13</th>\n",
       "      <td>Action</td>\n",
       "      <td>1708508.0</td>\n",
       "    </tr>\n",
       "    <tr>\n",
       "      <th>15</th>\n",
       "      <td>Comedy</td>\n",
       "      <td>1438185.0</td>\n",
       "    </tr>\n",
       "    <tr>\n",
       "      <th>11</th>\n",
       "      <td>Adventure</td>\n",
       "      <td>1434576.0</td>\n",
       "    </tr>\n",
       "    <tr>\n",
       "      <th>18</th>\n",
       "      <td>Thriller</td>\n",
       "      <td>1434045.0</td>\n",
       "    </tr>\n",
       "  </tbody>\n",
       "</table>\n",
       "</div>"
      ],
      "text/plain": [
       "        genre  total_votes\n",
       "1       Drama    1956070.0\n",
       "13     Action    1708508.0\n",
       "15     Comedy    1438185.0\n",
       "11  Adventure    1434576.0\n",
       "18   Thriller    1434045.0"
      ]
     },
     "execution_count": 66,
     "metadata": {},
     "output_type": "execute_result"
    }
   ],
   "source": [
    "most_votes_genre = most_votes_genre.sort_values(by='total_votes',ascending=False)\n",
    "most_votes_genre.head()"
   ]
  },
  {
   "cell_type": "code",
   "execution_count": 66,
   "metadata": {},
   "outputs": [
    {
     "data": {
      "image/png": "[encoded data removed]",
      "text/plain": [
       "<matplotlib.figure.Figure at 0x7f72169c6350>"
      ]
     },
     "metadata": {},
     "output_type": "display_data"
    }
   ],
   "source": [
    "number_of_genres= len(most_votes_genre['genre'])\n",
    "index = np.arange(number_of_genres)\n",
    "bar_width = 0.8\n",
    "plt.figure(figsize=(17,7))\n",
    "plt.bar(index, most_votes_genre['total_votes'], bar_width, color='#5555FA' )\n",
    "plt.gca().set_xlabel(u\"Género\")\n",
    "plt.gca().set_ylabel(u\"Total de votos\")\n",
    "plt.xticks(index +bar_width/2, most_votes_genre['genre'],rotation=30, fontsize=12)\n",
    "plt.gca().set_title(u\"Total de votos por género\")\n",
    "plt.xlabel(u\"Géneros\")\n",
    "plt.ylabel(u\"Total de votos\")\n",
    "plt.show()\n"
   ]
  },
  {
   "cell_type": "markdown",
   "metadata": {},
   "source": [
    "#### Relación entre ratings y las ganancias"
   ]
  },
  {
   "cell_type": "code",
   "execution_count": 74,
   "metadata": {},
   "outputs": [
    {
     "data": {
      "image/png": "[encoded data removed]",
      "text/plain": [
       "<matplotlib.figure.Figure at 0x7feaaf96b890>"
      ]
     },
     "metadata": {},
     "output_type": "display_data"
    }
   ],
   "source": [
    "revenue_votes=movies[movies['vote_average']>1]\n",
    "plt.figure(figsize=(17,7))\n",
    "plt.scatter(revenue_votes['vote_average'],revenue_votes['revenue'], c='g', edgecolors='g', alpha=1)\n",
    "plt.ylabel('Ganancias')\n",
    "plt.xlabel('Rating promedio')\n",
    "ax = plt.gca()\n",
    "ax.get_yaxis().get_major_formatter().set_scientific(False)\n",
    "plt.title(u'Relación entre los ratings promedios y los ganancias')\n",
    "\n",
    "plt.show()"
   ]
  },
  {
   "cell_type": "code",
   "execution_count": 78,
   "metadata": {},
   "outputs": [],
   "source": [
    "#index=revenue_votes['revenue'].idxmax()\n",
    "#print(movies.loc[index]['title'])"
   ]
  },
  {
   "cell_type": "markdown",
   "metadata": {},
   "source": [
    "#### Distribución de ratings"
   ]
  },
  {
   "cell_type": "code",
   "execution_count": 68,
   "metadata": {},
   "outputs": [
    {
     "data": {
      "text/html": [
       "<div>\n",
       "<style scoped>\n",
       "    .dataframe tbody tr th:only-of-type {\n",
       "        vertical-align: middle;\n",
       "    }\n",
       "\n",
       "    .dataframe tbody tr th {\n",
       "        vertical-align: top;\n",
       "    }\n",
       "\n",
       "    .dataframe thead th {\n",
       "        text-align: right;\n",
       "    }\n",
       "</style>\n",
       "<table border=\"1\" class=\"dataframe\">\n",
       "  <thead>\n",
       "    <tr style=\"text-align: right;\">\n",
       "      <th></th>\n",
       "      <th>rating</th>\n",
       "      <th>count</th>\n",
       "    </tr>\n",
       "  </thead>\n",
       "  <tbody>\n",
       "    <tr>\n",
       "      <th>7</th>\n",
       "      <td>4.0</td>\n",
       "      <td>28750</td>\n",
       "    </tr>\n",
       "    <tr>\n",
       "      <th>5</th>\n",
       "      <td>3.0</td>\n",
       "      <td>20064</td>\n",
       "    </tr>\n",
       "    <tr>\n",
       "      <th>9</th>\n",
       "      <td>5.0</td>\n",
       "      <td>15095</td>\n",
       "    </tr>\n",
       "    <tr>\n",
       "      <th>6</th>\n",
       "      <td>3.5</td>\n",
       "      <td>10538</td>\n",
       "    </tr>\n",
       "    <tr>\n",
       "      <th>8</th>\n",
       "      <td>4.5</td>\n",
       "      <td>7723</td>\n",
       "    </tr>\n",
       "    <tr>\n",
       "      <th>3</th>\n",
       "      <td>2.0</td>\n",
       "      <td>7271</td>\n",
       "    </tr>\n",
       "    <tr>\n",
       "      <th>4</th>\n",
       "      <td>2.5</td>\n",
       "      <td>4449</td>\n",
       "    </tr>\n",
       "    <tr>\n",
       "      <th>1</th>\n",
       "      <td>1.0</td>\n",
       "      <td>3326</td>\n",
       "    </tr>\n",
       "    <tr>\n",
       "      <th>2</th>\n",
       "      <td>1.5</td>\n",
       "      <td>1687</td>\n",
       "    </tr>\n",
       "    <tr>\n",
       "      <th>0</th>\n",
       "      <td>0.5</td>\n",
       "      <td>1101</td>\n",
       "    </tr>\n",
       "  </tbody>\n",
       "</table>\n",
       "</div>"
      ],
      "text/plain": [
       "   rating  count\n",
       "7     4.0  28750\n",
       "5     3.0  20064\n",
       "9     5.0  15095\n",
       "6     3.5  10538\n",
       "8     4.5   7723\n",
       "3     2.0   7271\n",
       "4     2.5   4449\n",
       "1     1.0   3326\n",
       "2     1.5   1687\n",
       "0     0.5   1101"
      ]
     },
     "execution_count": 68,
     "metadata": {},
     "output_type": "execute_result"
    }
   ],
   "source": [
    "ratings=pd.read_csv('movies/ratings.csv')\n",
    "ratings=ratings.groupby('rating').size().reset_index(name='count')\n",
    "ratings.sort_values('count', ascending=False, inplace=True)\n",
    "ratings"
   ]
  },
  {
   "cell_type": "code",
   "execution_count": 50,
   "metadata": {},
   "outputs": [
    {
     "data": {
      "image/png": "[encoded data removed]",
      "text/plain": [
       "<matplotlib.figure.Figure at 0x7feab18af110>"
      ]
     },
     "metadata": {},
     "output_type": "display_data"
    }
   ],
   "source": [
    "ratings.sort_values('rating', inplace=True)\n",
    "index= np.arange(0.5,5.5,0.5)\n",
    "plt.figure(figsize=(17,7))\n",
    "\n",
    "plt.bar(index, ratings['count'], color='#5555FA', edgecolor='#5555FA', align='center', width=0.3)\n",
    "plt.xlabel(u'Ratings')\n",
    "plt.ylabel(u'Cant de películas')\n",
    "plt.title(u'Frecuencia de los ratings')\n",
    "\n",
    "plt.xticks(np.arange(0,5.5,0.5))\n",
    "plt.show()"
   ]
  },
  {
   "cell_type": "markdown",
   "metadata": {},
   "source": [
    "#### Cantidad de calificaciones por película"
   ]
  },
  {
   "cell_type": "code",
   "execution_count": 70,
   "metadata": {},
   "outputs": [
    {
     "name": "stdout",
     "output_type": "stream",
     "text": [
      "3.543608255669773\n"
     ]
    },
    {
     "data": {
      "text/html": [
       "<div>\n",
       "<style scoped>\n",
       "    .dataframe tbody tr th:only-of-type {\n",
       "        vertical-align: middle;\n",
       "    }\n",
       "\n",
       "    .dataframe tbody tr th {\n",
       "        vertical-align: top;\n",
       "    }\n",
       "\n",
       "    .dataframe thead th {\n",
       "        text-align: right;\n",
       "    }\n",
       "</style>\n",
       "<table border=\"1\" class=\"dataframe\">\n",
       "  <thead>\n",
       "    <tr style=\"text-align: right;\">\n",
       "      <th></th>\n",
       "      <th>movieId</th>\n",
       "      <th>count</th>\n",
       "    </tr>\n",
       "  </thead>\n",
       "  <tbody>\n",
       "    <tr>\n",
       "      <th>321</th>\n",
       "      <td>356</td>\n",
       "      <td>341</td>\n",
       "    </tr>\n",
       "    <tr>\n",
       "      <th>266</th>\n",
       "      <td>296</td>\n",
       "      <td>324</td>\n",
       "    </tr>\n",
       "    <tr>\n",
       "      <th>284</th>\n",
       "      <td>318</td>\n",
       "      <td>311</td>\n",
       "    </tr>\n",
       "    <tr>\n",
       "      <th>525</th>\n",
       "      <td>593</td>\n",
       "      <td>304</td>\n",
       "    </tr>\n",
       "    <tr>\n",
       "      <th>232</th>\n",
       "      <td>260</td>\n",
       "      <td>291</td>\n",
       "    </tr>\n",
       "    <tr>\n",
       "      <th>427</th>\n",
       "      <td>480</td>\n",
       "      <td>274</td>\n",
       "    </tr>\n",
       "    <tr>\n",
       "      <th>2062</th>\n",
       "      <td>2571</td>\n",
       "      <td>259</td>\n",
       "    </tr>\n",
       "    <tr>\n",
       "      <th>0</th>\n",
       "      <td>1</td>\n",
       "      <td>247</td>\n",
       "    </tr>\n",
       "    <tr>\n",
       "      <th>472</th>\n",
       "      <td>527</td>\n",
       "      <td>244</td>\n",
       "    </tr>\n",
       "    <tr>\n",
       "      <th>522</th>\n",
       "      <td>589</td>\n",
       "      <td>237</td>\n",
       "    </tr>\n",
       "    <tr>\n",
       "      <th>953</th>\n",
       "      <td>1196</td>\n",
       "      <td>234</td>\n",
       "    </tr>\n",
       "    <tr>\n",
       "      <th>100</th>\n",
       "      <td>110</td>\n",
       "      <td>228</td>\n",
       "    </tr>\n",
       "    <tr>\n",
       "      <th>1024</th>\n",
       "      <td>1270</td>\n",
       "      <td>226</td>\n",
       "    </tr>\n",
       "    <tr>\n",
       "      <th>535</th>\n",
       "      <td>608</td>\n",
       "      <td>224</td>\n",
       "    </tr>\n",
       "    <tr>\n",
       "      <th>2288</th>\n",
       "      <td>2858</td>\n",
       "      <td>220</td>\n",
       "    </tr>\n",
       "    <tr>\n",
       "      <th>955</th>\n",
       "      <td>1198</td>\n",
       "      <td>220</td>\n",
       "    </tr>\n",
       "    <tr>\n",
       "      <th>644</th>\n",
       "      <td>780</td>\n",
       "      <td>218</td>\n",
       "    </tr>\n",
       "    <tr>\n",
       "      <th>966</th>\n",
       "      <td>1210</td>\n",
       "      <td>217</td>\n",
       "    </tr>\n",
       "    <tr>\n",
       "      <th>521</th>\n",
       "      <td>588</td>\n",
       "      <td>215</td>\n",
       "    </tr>\n",
       "    <tr>\n",
       "      <th>406</th>\n",
       "      <td>457</td>\n",
       "      <td>213</td>\n",
       "    </tr>\n",
       "    <tr>\n",
       "      <th>523</th>\n",
       "      <td>590</td>\n",
       "      <td>202</td>\n",
       "    </tr>\n",
       "    <tr>\n",
       "      <th>2374</th>\n",
       "      <td>2959</td>\n",
       "      <td>202</td>\n",
       "    </tr>\n",
       "    <tr>\n",
       "      <th>45</th>\n",
       "      <td>47</td>\n",
       "      <td>201</td>\n",
       "    </tr>\n",
       "    <tr>\n",
       "      <th>48</th>\n",
       "      <td>50</td>\n",
       "      <td>201</td>\n",
       "    </tr>\n",
       "    <tr>\n",
       "      <th>328</th>\n",
       "      <td>364</td>\n",
       "      <td>200</td>\n",
       "    </tr>\n",
       "    <tr>\n",
       "      <th>695</th>\n",
       "      <td>858</td>\n",
       "      <td>200</td>\n",
       "    </tr>\n",
       "    <tr>\n",
       "      <th>129</th>\n",
       "      <td>150</td>\n",
       "      <td>200</td>\n",
       "    </tr>\n",
       "    <tr>\n",
       "      <th>3869</th>\n",
       "      <td>4993</td>\n",
       "      <td>200</td>\n",
       "    </tr>\n",
       "    <tr>\n",
       "      <th>344</th>\n",
       "      <td>380</td>\n",
       "      <td>198</td>\n",
       "    </tr>\n",
       "    <tr>\n",
       "      <th>524</th>\n",
       "      <td>592</td>\n",
       "      <td>196</td>\n",
       "    </tr>\n",
       "    <tr>\n",
       "      <th>...</th>\n",
       "      <td>...</td>\n",
       "      <td>...</td>\n",
       "    </tr>\n",
       "    <tr>\n",
       "      <th>5164</th>\n",
       "      <td>7541</td>\n",
       "      <td>2</td>\n",
       "    </tr>\n",
       "    <tr>\n",
       "      <th>3019</th>\n",
       "      <td>3774</td>\n",
       "      <td>2</td>\n",
       "    </tr>\n",
       "    <tr>\n",
       "      <th>3774</th>\n",
       "      <td>4834</td>\n",
       "      <td>2</td>\n",
       "    </tr>\n",
       "    <tr>\n",
       "      <th>5414</th>\n",
       "      <td>8482</td>\n",
       "      <td>2</td>\n",
       "    </tr>\n",
       "    <tr>\n",
       "      <th>5153</th>\n",
       "      <td>7459</td>\n",
       "      <td>2</td>\n",
       "    </tr>\n",
       "    <tr>\n",
       "      <th>3821</th>\n",
       "      <td>4920</td>\n",
       "      <td>2</td>\n",
       "    </tr>\n",
       "    <tr>\n",
       "      <th>8221</th>\n",
       "      <td>99764</td>\n",
       "      <td>2</td>\n",
       "    </tr>\n",
       "    <tr>\n",
       "      <th>5408</th>\n",
       "      <td>8460</td>\n",
       "      <td>2</td>\n",
       "    </tr>\n",
       "    <tr>\n",
       "      <th>3836</th>\n",
       "      <td>4949</td>\n",
       "      <td>2</td>\n",
       "    </tr>\n",
       "    <tr>\n",
       "      <th>5146</th>\n",
       "      <td>7449</td>\n",
       "      <td>2</td>\n",
       "    </tr>\n",
       "    <tr>\n",
       "      <th>5183</th>\n",
       "      <td>7615</td>\n",
       "      <td>2</td>\n",
       "    </tr>\n",
       "    <tr>\n",
       "      <th>3024</th>\n",
       "      <td>3784</td>\n",
       "      <td>2</td>\n",
       "    </tr>\n",
       "    <tr>\n",
       "      <th>8329</th>\n",
       "      <td>103539</td>\n",
       "      <td>2</td>\n",
       "    </tr>\n",
       "    <tr>\n",
       "      <th>3983</th>\n",
       "      <td>5172</td>\n",
       "      <td>2</td>\n",
       "    </tr>\n",
       "    <tr>\n",
       "      <th>5426</th>\n",
       "      <td>8522</td>\n",
       "      <td>2</td>\n",
       "    </tr>\n",
       "    <tr>\n",
       "      <th>2883</th>\n",
       "      <td>3613</td>\n",
       "      <td>2</td>\n",
       "    </tr>\n",
       "    <tr>\n",
       "      <th>3035</th>\n",
       "      <td>3795</td>\n",
       "      <td>2</td>\n",
       "    </tr>\n",
       "    <tr>\n",
       "      <th>5441</th>\n",
       "      <td>8571</td>\n",
       "      <td>2</td>\n",
       "    </tr>\n",
       "    <tr>\n",
       "      <th>3802</th>\n",
       "      <td>4885</td>\n",
       "      <td>2</td>\n",
       "    </tr>\n",
       "    <tr>\n",
       "      <th>5184</th>\n",
       "      <td>7616</td>\n",
       "      <td>2</td>\n",
       "    </tr>\n",
       "    <tr>\n",
       "      <th>3021</th>\n",
       "      <td>3777</td>\n",
       "      <td>2</td>\n",
       "    </tr>\n",
       "    <tr>\n",
       "      <th>3840</th>\n",
       "      <td>4956</td>\n",
       "      <td>2</td>\n",
       "    </tr>\n",
       "    <tr>\n",
       "      <th>3027</th>\n",
       "      <td>3787</td>\n",
       "      <td>2</td>\n",
       "    </tr>\n",
       "    <tr>\n",
       "      <th>3985</th>\n",
       "      <td>5179</td>\n",
       "      <td>2</td>\n",
       "    </tr>\n",
       "    <tr>\n",
       "      <th>3838</th>\n",
       "      <td>4952</td>\n",
       "      <td>2</td>\n",
       "    </tr>\n",
       "    <tr>\n",
       "      <th>3988</th>\n",
       "      <td>5186</td>\n",
       "      <td>2</td>\n",
       "    </tr>\n",
       "    <tr>\n",
       "      <th>8211</th>\n",
       "      <td>99437</td>\n",
       "      <td>2</td>\n",
       "    </tr>\n",
       "    <tr>\n",
       "      <th>5187</th>\n",
       "      <td>7624</td>\n",
       "      <td>2</td>\n",
       "    </tr>\n",
       "    <tr>\n",
       "      <th>4016</th>\n",
       "      <td>5238</td>\n",
       "      <td>2</td>\n",
       "    </tr>\n",
       "    <tr>\n",
       "      <th>5428</th>\n",
       "      <td>8525</td>\n",
       "      <td>2</td>\n",
       "    </tr>\n",
       "  </tbody>\n",
       "</table>\n",
       "<p>6003 rows × 2 columns</p>\n",
       "</div>"
      ],
      "text/plain": [
       "      movieId  count\n",
       "321       356    341\n",
       "266       296    324\n",
       "284       318    311\n",
       "525       593    304\n",
       "232       260    291\n",
       "427       480    274\n",
       "2062     2571    259\n",
       "0           1    247\n",
       "472       527    244\n",
       "522       589    237\n",
       "953      1196    234\n",
       "100       110    228\n",
       "1024     1270    226\n",
       "535       608    224\n",
       "2288     2858    220\n",
       "955      1198    220\n",
       "644       780    218\n",
       "966      1210    217\n",
       "521       588    215\n",
       "406       457    213\n",
       "523       590    202\n",
       "2374     2959    202\n",
       "45         47    201\n",
       "48         50    201\n",
       "328       364    200\n",
       "695       858    200\n",
       "129       150    200\n",
       "3869     4993    200\n",
       "344       380    198\n",
       "524       592    196\n",
       "...       ...    ...\n",
       "5164     7541      2\n",
       "3019     3774      2\n",
       "3774     4834      2\n",
       "5414     8482      2\n",
       "5153     7459      2\n",
       "3821     4920      2\n",
       "8221    99764      2\n",
       "5408     8460      2\n",
       "3836     4949      2\n",
       "5146     7449      2\n",
       "5183     7615      2\n",
       "3024     3784      2\n",
       "8329   103539      2\n",
       "3983     5172      2\n",
       "5426     8522      2\n",
       "2883     3613      2\n",
       "3035     3795      2\n",
       "5441     8571      2\n",
       "3802     4885      2\n",
       "5184     7616      2\n",
       "3021     3777      2\n",
       "3840     4956      2\n",
       "3027     3787      2\n",
       "3985     5179      2\n",
       "3838     4952      2\n",
       "3988     5186      2\n",
       "8211    99437      2\n",
       "5187     7624      2\n",
       "4016     5238      2\n",
       "5428     8525      2\n",
       "\n",
       "[6003 rows x 2 columns]"
      ]
     },
     "execution_count": 70,
     "metadata": {},
     "output_type": "execute_result"
    }
   ],
   "source": [
    "ratings=pd.read_csv('movies/ratings.csv')\n",
    "media_rating = ratings['rating'].mean()\n",
    "print media_rating\n",
    "\n",
    "ratings=ratings.groupby('movieId').size().reset_index(name='count')    \n",
    "ratings.sort_values('count', ascending=False, inplace=True)\n",
    "ratings[ratings['count']>1]\n",
    "\n"
   ]
  },
  {
   "cell_type": "markdown",
   "metadata": {},
   "source": [
    "### Sistema Recomendador basado en la información de las películas\n",
    "\n",
    "Obtener mejores recomendaciones para la peli The Dark Knight, acá conocida como \"Batman: el caballero de la noche\"."
   ]
  },
  {
   "cell_type": "code",
   "execution_count": 81,
   "metadata": {},
   "outputs": [],
   "source": [
    "from sklearn.feature_extraction.text import CountVectorizer\n",
    "from sklearn.metrics.pairwise import linear_kernel, cosine_similarity"
   ]
  },
  {
   "cell_type": "code",
   "execution_count": 120,
   "metadata": {},
   "outputs": [
    {
     "data": {
      "text/html": [
       "<div>\n",
       "<style scoped>\n",
       "    .dataframe tbody tr th:only-of-type {\n",
       "        vertical-align: middle;\n",
       "    }\n",
       "\n",
       "    .dataframe tbody tr th {\n",
       "        vertical-align: top;\n",
       "    }\n",
       "\n",
       "    .dataframe thead th {\n",
       "        text-align: right;\n",
       "    }\n",
       "</style>\n",
       "<table border=\"1\" class=\"dataframe\">\n",
       "  <thead>\n",
       "    <tr style=\"text-align: right;\">\n",
       "      <th></th>\n",
       "      <th>en</th>\n",
       "      <th>mucho</th>\n",
       "      <th>programo</th>\n",
       "      <th>python</th>\n",
       "      <th>yo</th>\n",
       "    </tr>\n",
       "  </thead>\n",
       "  <tbody>\n",
       "    <tr>\n",
       "      <th>yo programo en python</th>\n",
       "      <td>1</td>\n",
       "      <td>0</td>\n",
       "      <td>1</td>\n",
       "      <td>1</td>\n",
       "      <td>1</td>\n",
       "    </tr>\n",
       "    <tr>\n",
       "      <th>python y yo yo y</th>\n",
       "      <td>0</td>\n",
       "      <td>0</td>\n",
       "      <td>0</td>\n",
       "      <td>1</td>\n",
       "      <td>2</td>\n",
       "    </tr>\n",
       "    <tr>\n",
       "      <th>programo mucho</th>\n",
       "      <td>0</td>\n",
       "      <td>1</td>\n",
       "      <td>1</td>\n",
       "      <td>0</td>\n",
       "      <td>0</td>\n",
       "    </tr>\n",
       "  </tbody>\n",
       "</table>\n",
       "</div>"
      ],
      "text/plain": [
       "                       en  mucho  programo  python  yo\n",
       "yo programo en python   1      0         1       1   1\n",
       "python y yo yo y        0      0         0       1   2\n",
       "programo mucho          0      1         1       0   0"
      ]
     },
     "execution_count": 120,
     "metadata": {},
     "output_type": "execute_result"
    }
   ],
   "source": [
    "corpus =['yo programo en python', 'python y yo yo y', 'programo mucho']\n",
    "example = tf.fit(corpus)\n",
    "data= example.transform(corpus).todense()\n",
    "pd.DataFrame(data=data,  index=corpus, columns=example.get_feature_names())"
   ]
  },
  {
   "cell_type": "code",
   "execution_count": 91,
   "metadata": {},
   "outputs": [],
   "source": [
    "movies['tagline'] = movies['tagline'].fillna('')\n",
    "movies['description'] = movies['overview'] + movies['tagline']\n",
    "movies['description'] = movies['description'].fillna('')\n",
    "\n",
    "tf = CountVectorizer(analyzer='word', stop_words='english')\n",
    "tfidf_matrix = tf.fit_transform(movies['description'])"
   ]
  },
  {
   "cell_type": "markdown",
   "metadata": {},
   "source": [
    "##### Similitud del coseno"
   ]
  },
  {
   "cell_type": "code",
   "execution_count": 122,
   "metadata": {},
   "outputs": [
    {
     "data": {
      "text/plain": [
       "585                                                 Batman\n",
       "40974    LEGO DC Comics Super Heroes: Batman: Be-Leaguered\n",
       "18009                               This Must Be the Place\n",
       "41976                                The Lego Batman Movie\n",
       "18035                                     Batman: Year One\n",
       "20232              Batman: The Dark Knight Returns, Part 2\n",
       "21194    Batman Unmasked: The Psychology of the Dark Kn...\n",
       "26102                                       Going Straight\n",
       "150                                         Batman Forever\n",
       "28023                                      The Dead Season\n",
       "15511                           Batman: Under the Red Hood\n",
       "1328                                        Batman Returns\n",
       "40658                                             Paranoia\n",
       "18252                                The Dark Knight Rises\n",
       "Name: title, dtype: object"
      ]
     },
     "execution_count": 122,
     "metadata": {},
     "output_type": "execute_result"
    }
   ],
   "source": [
    "from sklearn.metrics.pairwise import  cosine_similarity\n",
    "\n",
    "film1_index = np.where(movies[\"title\"] ==\"The Dark Knight\")[0]\n",
    "tfidf_vector_film_1 =tfidf_matrix[film1_index,:]\n",
    "distances = cosine_similarity(tfidf_vector_film_1, tfidf_matrix)[0]\n",
    "indices_of_most_simmilar_films = distances.argsort()[-15:-1]\n",
    "movies.iloc[indices_of_most_simmilar_films][\"title\"]\n",
    "\n"
   ]
  },
  {
   "cell_type": "markdown",
   "metadata": {},
   "source": [
    "### Utilizando Sistemas Recomendadores con Surprise"
   ]
  },
  {
   "cell_type": "code",
   "execution_count": 10,
   "metadata": {},
   "outputs": [],
   "source": [
    "from surprise import Reader, Dataset, KNNBasic, evaluate, accuracy\n",
    "from surprise.model_selection import KFold"
   ]
  },
  {
   "cell_type": "code",
   "execution_count": 128,
   "metadata": {},
   "outputs": [],
   "source": [
    "ratings=pd.read_csv('movies/ratings.csv')\n",
    "#print(ratings.head())"
   ]
  },
  {
   "cell_type": "code",
   "execution_count": 130,
   "metadata": {},
   "outputs": [],
   "source": [
    "# Reader se define para especificar la escala de ratings.\n",
    "reader = Reader(rating_scale=(0.5, 5))\n",
    "\n",
    "# Las columnas deben ser: user id, item id, ratings, se debe respetar ese orden.\n",
    "data = Dataset.load_from_df(ratings[['userId', 'movieId', 'rating']], reader)\n"
   ]
  },
  {
   "cell_type": "markdown",
   "metadata": {},
   "source": [
    "![](sparse_matrix_sm.png)"
   ]
  },
  {
   "cell_type": "markdown",
   "metadata": {},
   "source": [
    "##### Filtrado Colaborativo enfoque item-item"
   ]
  },
  {
   "cell_type": "code",
   "execution_count": 73,
   "metadata": {},
   "outputs": [
    {
     "name": "stdout",
     "output_type": "stream",
     "text": [
      "Computing the cosine similarity matrix...\n",
      "Done computing similarity matrix.\n",
      "RMSE: 0.9970\n",
      "Computing the cosine similarity matrix...\n",
      "Done computing similarity matrix.\n",
      "RMSE: 0.9874\n",
      "Computing the cosine similarity matrix...\n",
      "Done computing similarity matrix.\n",
      "RMSE: 0.9905\n"
     ]
    }
   ],
   "source": [
    "# Se define un iterador para poder hacer cross-validation\n",
    "kf = KFold(n_splits=3)\n",
    "\n",
    "sim_options = {'name': 'cosine',\n",
    "               'user_based': False  # para que compare items \n",
    "              }\n",
    "        \n",
    "algo = KNNBasic(sim_options=sim_options)\n",
    "\n",
    "for trainset, testset in kf.split(data):\n",
    "\n",
    "    # Se entrena y se corre el algoritmo.\n",
    "    algo.fit(trainset)\n",
    "    predictions = algo.test(testset)\n",
    "\n",
    "    # Se evalua la performance calculando el error RMSE\n",
    "    accuracy.rmse(predictions, verbose=True)"
   ]
  },
  {
   "cell_type": "markdown",
   "metadata": {},
   "source": [
    "##### Filtrado Colaborativo enfoque usuario-usuario"
   ]
  },
  {
   "cell_type": "code",
   "execution_count": 20,
   "metadata": {},
   "outputs": [
    {
     "name": "stdout",
     "output_type": "stream",
     "text": [
      "Estimating biases using als...\n",
      "Computing the pearson_baseline similarity matrix...\n",
      "Done computing similarity matrix.\n",
      "RMSE: 1.0061\n",
      "FCP:  0.6477\n",
      "Estimating biases using als...\n",
      "Computing the pearson_baseline similarity matrix...\n",
      "Done computing similarity matrix.\n",
      "RMSE: 1.0137\n",
      "FCP:  0.6428\n",
      "Estimating biases using als...\n",
      "Computing the pearson_baseline similarity matrix...\n",
      "Done computing similarity matrix.\n",
      "RMSE: 1.0242\n",
      "FCP:  0.6398\n"
     ]
    }
   ],
   "source": [
    "# Se define un iterador de cross-validation\n",
    "kf = KFold(n_splits=3)\n",
    "\n",
    "sim_options = {'name': 'pearson_baseline'}\n",
    "        \n",
    "algo = KNNBasic(sim_options=sim_options)\n",
    "\n",
    "for trainset, testset in kf.split(data):\n",
    "\n",
    "    # Se entrena y se corre el algoritmo.\n",
    "    algo.fit(trainset)\n",
    "    predictions = algo.test(testset)\n",
    "    \n",
    "    # Se evalua la performance calculando el error RMSE\n",
    "    accuracy.rmse(predictions, verbose=True)\n",
    "    accuracy.fcp(predictions, verbose=True)"
   ]
  },
  {
   "cell_type": "markdown",
   "metadata": {},
   "source": [
    "Predecir un rating con mi modelo"
   ]
  },
  {
   "cell_type": "code",
   "execution_count": 145,
   "metadata": {},
   "outputs": [
    {
     "name": "stdout",
     "output_type": "stream",
     "text": [
      "user: 631        item: 1584       r_ui = None   est = 3.79   {u'actual_k': 23, u'was_impossible': False}\n"
     ]
    }
   ],
   "source": [
    "two_ratings = list(algo.trainset.all_ratings())[0:2]\n",
    "\n",
    "uid = algo.trainset.to_raw_uid(two_ratings[0][0])  #user id \n",
    "iid = algo.trainset.to_raw_iid(two_ratings[1][1])  #item id \n",
    "\n",
    "# prediccion de rating para ese usuario y ese item.\n",
    "pred = algo.predict(uid, iid,  verbose=True)"
   ]
  },
  {
   "cell_type": "markdown",
   "metadata": {},
   "source": [
    "### Kaggle\n",
    "\n",
    "https://www.kaggle.com/\n",
    "\n",
    "Hay muchos datasets disponibles y notebooks con análisis de datos, y recomendaciones.\n",
    "\n"
   ]
  },
  {
   "cell_type": "markdown",
   "metadata": {},
   "source": [
    "https://github.com/mcharnelli/PyDayLP2018 "
   ]
  },
  {
   "cell_type": "code",
   "execution_count": null,
   "metadata": {},
   "outputs": [],
   "source": []
  }
 ],
 "metadata": {
  "kernelspec": {
   "display_name": "Python 2",
   "language": "python",
   "name": "python2"
  },
  "language_info": {
   "codemirror_mode": {
    "name": "ipython",
    "version": 2
   },
   "file_extension": ".py",
   "mimetype": "text/x-python",
   "name": "python",
   "nbconvert_exporter": "python",
   "pygments_lexer": "ipython2",
   "version": "2.7.12"
  }
 },
 "nbformat": 4,
 "nbformat_minor": 2
}
